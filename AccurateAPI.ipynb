{
 "cells": [
  {
   "cell_type": "code",
   "execution_count": 1,
   "metadata": {
    "executionInfo": {
     "elapsed": 1466,
     "status": "ok",
     "timestamp": 1745381183417,
     "user": {
      "displayName": "Valentio tio",
      "userId": "11166280241686784611"
     },
     "user_tz": -420
    },
    "id": "gmivLjw0_myC"
   },
   "outputs": [],
   "source": [
    "import gspread\n",
    "import pandas as pd\n",
    "from google.oauth2 import service_account\n",
    "import hashlib\n",
    "import pandas as pd\n",
    "import os\n",
    "import json\n",
    "import numpy as np\n",
    "import hmac\n",
    "import calendar\n",
    "import requests\n",
    "import streamlit as st\n",
    "from datetime import datetime,timezone, timedelta\n",
    "\n",
    "\n",
    "def generate_signature(secret_key, timestamp):\n",
    "    payload = timestamp.encode('utf-8')\n",
    "    secret_key = secret_key.encode('utf-8')\n",
    "\n",
    "    hmac_object = hmac.new(secret_key, payload, hashlib.sha256)\n",
    "    \n",
    "    return hmac_object.hexdigest()\n",
    "\n",
    "api_token = \"aat.NTA.eyJ2IjoxLCJ1Ijo4MTk2MTksImQiOjEyMjU0NDUsImFpIjo1NTA3NCwiYWsiOiJjMDU1MTNjZS02ZWJlLTRmZTAtYWQwNC00MGQ1NDQ1OWZmMDEiLCJhbiI6IktyaXN0YWwgQXV0b21hdGlvbiIsImFwIjoiNjQ5YTUyZGItOGY3Ni00NGQyLThmMGQtZGU2MDIwMDUwZGI4IiwidCI6MTc0NDc4MDU0NzcxMH0.QeoDo2DCNvI0V/fVQT2IQP8I6v69GOVMRRjSznGkLXdysVtbR9ZTky2FO45cFgVfwWPlLeeSpYXQrICLExUB0MYzX+BqgtXmm/Eb7vc+lRssKuhUbUdpYomW3WXLQSBUJeiPr5KT1wxaIBOk2PIBH09JqdY5yD94rG56xvy9urlr8km0HbtFeVlf8ScL6zFE/jJv4Nu+njY=.0xJjBtaQRlBRfXntN6r+aITBX6BFwvMLz5IK+eDUrpY\"\n",
    "signature_secret = \"EjESUUVVTg5XYDUF9uzMB3PqgEH2G2Sj4OY54GA3k0QFTkb9J5hktE40RM1heIsf\"\n",
    "\n",
    "# Menambahkan host base URL\n",
    "host = \"https://zeus.accurate.id\"\n",
    "\n",
    "def url(endpoint):\n",
    "    host = \"https://zeus.accurate.id\"\n",
    "    url = f\"{host}{endpoint}\"\n",
    "\n",
    "    # Format timestamp sesuai standar Accurate (contoh: ISO 8601 UTC)\n",
    "    timestamp = datetime.now(timezone.utc).strftime(\"%Y-%m-%dT%H:%M:%SZ\")  # Format UTC\n",
    "\n",
    "    # Pastikan signature di-generate dengan timestamp yang sama\n",
    "    signature = generate_signature(signature_secret, timestamp)  # Asumsi fungsi ini sudah benar\n",
    "\n",
    "    headers = {\n",
    "        \"Authorization\": f\"Bearer {api_token}\",\n",
    "        \"X-Api-Timestamp\": timestamp,  # Format harus sama dengan yang digunakan di signature\n",
    "        \"X-Api-Signature\": signature,\n",
    "        \"X-Language-Profile\": \"US\"\n",
    "    }\n",
    "    \n",
    "\n",
    "\n",
    "    response = requests.get(url, headers=headers)\n",
    "    return response.json()  # Handle error jika response.status_code != 200\n",
    "\n",
    "google_cloud_secrets = st.secrets[\"google_cloud\"]\n",
    "creds = service_account.Credentials.from_service_account_info(\n",
    "    google_cloud_secrets,\n",
    "    scopes=[\"https://www.googleapis.com/auth/spreadsheets\", \"https://www.googleapis.com/auth/drive\"]\n",
    ")\n",
    "client = gspread.authorize(creds)\n",
    "\n",
    "\n",
    "def get_data_gsheet(spreadsheet_id, sheetname,range):\n",
    "    # Mengambil semua data dari worksheet\n",
    "    all_data = client.open_by_key(spreadsheet_id).worksheet(sheetname).get(range)\n",
    "    \n",
    "    # Memisahkan header (baris pertama) dan data\n",
    "    headers = all_data[0]  # Baris pertama sebagai header\n",
    "    rows = all_data[1:]    # Baris berikutnya sebagai data\n",
    "    \n",
    "    # Mengubah list of lists menjadi list of dictionaries dengan header sebagai key\n",
    "    data = [dict(zip(headers, row)) for row in rows]\n",
    "    \n",
    "    return data\n",
    "\n",
    "\n",
    "def update_data(spreadsheet_id, sheetname, df):\n",
    "    # Buka worksheet\n",
    "    \n",
    "    sh = client.open_by_key(spreadsheet_id)\n",
    "    worksheet = sh.worksheet(sheetname)\n",
    "\n",
    "    # Hapus semua isi worksheet\n",
    "    worksheet.clear()\n",
    "\n",
    "    # Siapkan header + data\n",
    "    data = [df.columns.tolist()] + df.values.tolist()\n",
    "\n",
    "    # Bersihin NaN supaya tidak error waktu update\n",
    "    data = [[cell if pd.notna(cell) else \"\" for cell in row] for row in data]\n",
    "\n",
    "    # Update semua data ke sheet\n",
    "    worksheet.update('A1', data,value_input_option='USER_ENTERED')\n",
    "\n"
   ]
  },
  {
   "cell_type": "code",
   "execution_count": 2,
   "metadata": {
    "executionInfo": {
     "elapsed": 10,
     "status": "ok",
     "timestamp": 1745381183957,
     "user": {
      "displayName": "Valentio tio",
      "userId": "11166280241686784611"
     },
     "user_tz": -420
    },
    "id": "mJ3tNDdo_0Eo"
   },
   "outputs": [],
   "source": [
    "def get_all_listdo(endpoint):\n",
    "    page = 1\n",
    "    all_data = []\n",
    "    while True:\n",
    "\n",
    "\n",
    "\n",
    "        data = url(f\"{endpoint}&sp.page={page}\")\n",
    "\n",
    "        datas = data.get('d', [])\n",
    "\n",
    "        if not datas:\n",
    "            print(f\"✅ Halaman {page} kosong, selesai.\")\n",
    "            break\n",
    "\n",
    "        all_data.extend(datas)\n",
    "        page += 1\n",
    "\n",
    "    return all_data"
   ]
  },
  {
   "cell_type": "code",
   "execution_count": 3,
   "metadata": {
    "executionInfo": {
     "elapsed": 1,
     "status": "ok",
     "timestamp": 1745398510913,
     "user": {
      "displayName": "Valentio tio",
      "userId": "11166280241686784611"
     },
     "user_tz": -420
    },
    "id": "Y53oo-lG5G7S"
   },
   "outputs": [],
   "source": [
    "def ambil_detail_journal(data):\n",
    "    hasil = []\n",
    "    for item in data:\n",
    "        journal_id = item['id']\n",
    "        detail = url(f\"/accurate/api/journal-voucher/detail.do?id={journal_id}\")\n",
    "\n",
    "        for line in detail.get('d', {}).get('detailJournalVoucher', []):\n",
    "            hasil.append({\n",
    "                'id': journal_id,\n",
    "                'date': item['transDate'],\n",
    "                'type': line.get('amountType'),\n",
    "                'akun': line.get('glAccount', {}).get('name'),\n",
    "                'nilai': line.get('amount'),\n",
    "                'description':line.get('description'),\n",
    "                'memo':line.get('memo')\n",
    "            })\n",
    "\n",
    "    return hasil"
   ]
  },
  {
   "cell_type": "code",
   "execution_count": 4,
   "metadata": {},
   "outputs": [
    {
     "name": "stdout",
     "output_type": "stream",
     "text": [
      "13/05/2025\n",
      "27/05/2025\n",
      "✅ Halaman 4 kosong, selesai.\n"
     ]
    }
   ],
   "source": [
    "today = datetime.today()\n",
    "first_date = today - timedelta(days=14)\n",
    "first_date = first_date.strftime(\"%d/%m/%Y\")\n",
    "last_date = today.strftime(\"%d/%m/%Y\")\n",
    "\n",
    "\n",
    "print(first_date)\n",
    "print(last_date)\n",
    "filtered_check = get_all_listdo(f\"/accurate/api/journal-voucher/list.do?filter.transDate.op=BETWEEN&filter.transDate.val[0]={first_date}&filter.transDate.val[1]={last_date}&fields=id,transDate&sp.pageSize=1000000\")"
   ]
  },
  {
   "cell_type": "code",
   "execution_count": 6,
   "metadata": {
    "executionInfo": {
     "elapsed": 2804970,
     "status": "ok",
     "timestamp": 1745401334231,
     "user": {
      "displayName": "Valentio tio",
      "userId": "11166280241686784611"
     },
     "user_tz": -420
    },
    "id": "-XHK7Sgn2dIm"
   },
   "outputs": [],
   "source": [
    "update_journal = ambil_detail_journal(filtered_check)"
   ]
  },
  {
   "cell_type": "code",
   "execution_count": 7,
   "metadata": {},
   "outputs": [],
   "source": [
    "df_all_detail = pd.DataFrame(get_data_gsheet(\"1cjR6k-OCWmeSfCRS_3b9B3wgQc8a-d_pIvWzcZpz1Uw\", \"JSON\", \"A:H\"))\n",
    "df_all_detail['date'] = pd.to_datetime(df_all_detail['date'])\n",
    "df_all_detail['nilai'] = pd.to_numeric(df_all_detail['nilai'])"
   ]
  },
  {
   "cell_type": "code",
   "execution_count": 8,
   "metadata": {},
   "outputs": [
    {
     "name": "stderr",
     "output_type": "stream",
     "text": [
      "C:\\Users\\steph\\AppData\\Local\\Temp\\ipykernel_27736\\3395540965.py:2: UserWarning: Parsing dates in %d/%m/%Y format when dayfirst=False (the default) was specified. Pass `dayfirst=True` or specify a format to silence this warning.\n",
      "  df_update_journal['date'] = pd.to_datetime(df_update_journal['date'])\n"
     ]
    }
   ],
   "source": [
    "df_update_journal = pd.DataFrame(update_journal)\n",
    "df_update_journal['date'] = pd.to_datetime(df_update_journal['date'])"
   ]
  },
  {
   "cell_type": "code",
   "execution_count": 9,
   "metadata": {},
   "outputs": [],
   "source": [
    "min_date = df_update_journal['date'].min()\n",
    "max_date = df_update_journal['date'].max()"
   ]
  },
  {
   "cell_type": "code",
   "execution_count": 10,
   "metadata": {},
   "outputs": [],
   "source": [
    "result = df_all_detail[\n",
    "    (df_all_detail['date'] < min_date) | (df_all_detail['date'] > max_date)\n",
    "]"
   ]
  },
  {
   "cell_type": "code",
   "execution_count": 11,
   "metadata": {},
   "outputs": [
    {
     "name": "stderr",
     "output_type": "stream",
     "text": [
      "C:\\Users\\steph\\AppData\\Local\\Temp\\ipykernel_27736\\2982626057.py:90: DeprecationWarning: The order of arguments in worksheet.update() has changed. Please pass values first and range_name secondor used named arguments (range_name=, values=)\n",
      "  worksheet.update('A1', data,value_input_option='USER_ENTERED')\n"
     ]
    }
   ],
   "source": [
    "result = pd.concat([result, df_update_journal], ignore_index=True)\n",
    "for_json = result.copy()\n",
    "for_json['date'] = for_json['date'].dt.strftime('%-m/%-d/%Y')\n",
    "update_data(\"1cjR6k-OCWmeSfCRS_3b9B3wgQc8a-d_pIvWzcZpz1Uw\",\"JSON\",for_json)\n",
    "result['Debit'] = result.apply(lambda x: x['nilai'] if x['type'] == 'DEBIT' else 0, axis=1)\n",
    "result['Credit'] = result.apply(lambda x: x['nilai'] if x['type'] == 'CREDIT' else 0, axis=1)"
   ]
  },
  {
   "cell_type": "code",
   "execution_count": null,
   "metadata": {},
   "outputs": [
    {
     "ename": "SyntaxError",
     "evalue": "unmatched ')' (3319015973.py, line 4)",
     "output_type": "error",
     "traceback": [
      "  \u001b[36mCell\u001b[39m\u001b[36m \u001b[39m\u001b[32mIn[12]\u001b[39m\u001b[32m, line 4\u001b[39m\n\u001b[31m    \u001b[39m\u001b[31m).groupby(final_google['akun']).cumsum()\u001b[39m\n    ^\n\u001b[31mSyntaxError\u001b[39m\u001b[31m:\u001b[39m unmatched ')'\n"
     ]
    }
   ],
   "source": [
    "final_google = result[result['akun'].str.contains(\"Driver\")]\n",
    "final_google = final_google.sort_values('date')\n",
    "final_google['Balance'] = (final_google['Debit'] - final_google['Credit']  # pakai 'Kredit' jika sudah rename\n",
    ").groupby(final_google['akun']).cumsum()\n",
    "\n",
    "final_google['Saldo'] = np.where(final_google['Debit'] == 0, final_google['Credit'] * -1, \n",
    "                                         np.where(final_google['Credit'] == 0, final_google['Debit'], np.nan))\n",
    "\n",
    "# Fill NaN values if needed (optional)\n",
    "final_google['Saldo'] = final_google['Saldo'].fillna(0)\n",
    "final_google['Driver Name'] = final_google['akun'].str.replace('Driver - ', '', regex=False)\n",
    "final_google['date'] = final_google['date'].dt.strftime('%m/%d/%Y')\n",
    "final_google = final_google[['akun', 'Driver Name', 'date', 'memo', 'Debit', 'Credit', 'Balance', 'Saldo']]\n",
    "final_google = final_google.fillna(\"\")"
   ]
  },
  {
   "cell_type": "code",
   "execution_count": null,
   "metadata": {},
   "outputs": [],
   "source": [
    "final_google.rename(columns={'Credit': 'Kredit', 'akun':'Nama Perkiraan', 'date':'Tanggal', 'memo': 'Deskripsi'}, inplace=True)"
   ]
  },
  {
   "cell_type": "code",
   "execution_count": null,
   "metadata": {},
   "outputs": [
    {
     "name": "stderr",
     "output_type": "stream",
     "text": [
      "C:\\Users\\steph\\AppData\\Local\\Temp\\ipykernel_20208\\2982626057.py:90: DeprecationWarning: The order of arguments in worksheet.update() has changed. Please pass values first and range_name secondor used named arguments (range_name=, values=)\n",
      "  worksheet.update('A1', data,value_input_option='USER_ENTERED')\n"
     ]
    }
   ],
   "source": [
    "update_data(\"1cjR6k-OCWmeSfCRS_3b9B3wgQc8a-d_pIvWzcZpz1Uw\",\"Valentio\",final_google)"
   ]
  }
 ],
 "metadata": {
  "colab": {
   "authorship_tag": "ABX9TyOpJVT0dPnO4QbSNDI2gsgq",
   "mount_file_id": "1E7S8fbM7dQmKQn6MwPJq_9AGW5b_PtiK",
   "provenance": []
  },
  "kernelspec": {
   "display_name": "Python 3",
   "name": "python3"
  },
  "language_info": {
   "codemirror_mode": {
    "name": "ipython",
    "version": 3
   },
   "file_extension": ".py",
   "mimetype": "text/x-python",
   "name": "python",
   "nbconvert_exporter": "python",
   "pygments_lexer": "ipython3",
   "version": "3.13.2"
  }
 },
 "nbformat": 4,
 "nbformat_minor": 0
}
